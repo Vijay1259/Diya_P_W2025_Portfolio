{
 "cells": [
  {
   "cell_type": "markdown",
   "id": "d6c2976c",
   "metadata": {},
   "source": [
    "# Assignment 02 - Multiclass Classification using the Iris Dataset"
   ]
  },
  {
   "cell_type": "markdown",
   "id": "7a828c2d",
   "metadata": {},
   "source": [
    "## **00. Upload and Set Up the Dataset**"
   ]
  },
  {
   "cell_type": "markdown",
   "id": "c76d0df5",
   "metadata": {},
   "source": [
    "**00-1** Upload the `iris.csv` file into Google Drive (Colab folder)."
   ]
  },
  {
   "cell_type": "markdown",
   "id": "83c119ec",
   "metadata": {},
   "source": [
    "## **01. Find and Load the File**"
   ]
  },
  {
   "cell_type": "markdown",
   "id": "914309c6",
   "metadata": {},
   "source": [
    "**01-a** Find the path of `iris.csv` file and save it in a variable called `fileName`. "
   ]
  },
  {
   "cell_type": "code",
   "execution_count": null,
   "id": "d4974cfe",
   "metadata": {},
   "outputs": [],
   "source": [
    "\n",
    "from google.colab import drive\n",
    "drive.mount('/content/drive')\n",
    "\n",
    "# Define file path variable\n",
    "fileName = \"/content/drive/My Drive/Assignment_02_iris.csv\"  # Update if needed\n",
    "print(\"File Path:\", fileName)\n",
    "    "
   ]
  },
  {
   "cell_type": "markdown",
   "id": "0657dd66",
   "metadata": {},
   "source": [
    "**01-b** Read the content of the `iris.csv` file and save it in a variable, named `iris`. "
   ]
  },
  {
   "cell_type": "code",
   "execution_count": null,
   "id": "207ed6f0",
   "metadata": {},
   "outputs": [],
   "source": [
    "\n",
    "import pandas as pd\n",
    "\n",
    "# Load the dataset\n",
    "iris = pd.read_csv(fileName)\n",
    "\n",
    "# Display the first few rows\n",
    "iris.head()\n",
    "    "
   ]
  },
  {
   "cell_type": "markdown",
   "id": "7ac163b9",
   "metadata": {},
   "source": [
    "## **02. Convert Species to Numeric Values**"
   ]
  },
  {
   "cell_type": "markdown",
   "id": "4159136f",
   "metadata": {},
   "source": [
    "**02-a** Convert species names to integers (`setosa -> 0`, `versicolor -> 1`, `virginica -> 2`)."
   ]
  },
  {
   "cell_type": "code",
   "execution_count": null,
   "id": "aa69912a",
   "metadata": {},
   "outputs": [],
   "source": [
    "\n",
    "from sklearn.preprocessing import LabelEncoder\n",
    "\n",
    "# Convert species names to numbers\n",
    "label_encoder = LabelEncoder()\n",
    "iris[\"species\"] = label_encoder.fit_transform(iris[\"species\"])\n",
    "\n",
    "# Display updated dataset\n",
    "iris.head()\n",
    "    "
   ]
  },
  {
   "cell_type": "markdown",
   "id": "c616d526",
   "metadata": {},
   "source": [
    "## **03. Split Data into Features (X) and Target (y)**"
   ]
  },
  {
   "cell_type": "markdown",
   "id": "6593ff5a",
   "metadata": {},
   "source": [
    "**03-a** Select the first four columns as the Data and call it `X`. "
   ]
  },
  {
   "cell_type": "code",
   "execution_count": null,
   "id": "1792026a",
   "metadata": {},
   "outputs": [],
   "source": [
    "\n",
    "# Select features (all columns except species)\n",
    "X = iris.drop(\"species\", axis=1)\n",
    "X.head()\n",
    "    "
   ]
  },
  {
   "cell_type": "markdown",
   "id": "bade36cd",
   "metadata": {},
   "source": [
    "**03-b** Select the last column as the label and call it `y`. "
   ]
  },
  {
   "cell_type": "code",
   "execution_count": null,
   "id": "2ca3d0ed",
   "metadata": {},
   "outputs": [],
   "source": [
    "\n",
    "# Select target variable\n",
    "y = iris[\"species\"]\n",
    "y.head()\n",
    "    "
   ]
  },
  {
   "cell_type": "markdown",
   "id": "8fc50e7b",
   "metadata": {},
   "source": [
    "## **04. Split Data into Training and Testing Sets**"
   ]
  },
  {
   "cell_type": "markdown",
   "id": "7f90f033",
   "metadata": {},
   "source": [
    "**04-a** Split the data into `X_train, X_test, y_train, y_test` with 80% training and 20% testing."
   ]
  },
  {
   "cell_type": "code",
   "execution_count": null,
   "id": "85c43c13",
   "metadata": {},
   "outputs": [],
   "source": [
    "\n",
    "from sklearn.model_selection import train_test_split\n",
    "\n",
    "# Split the dataset\n",
    "X_train, X_test, y_train, y_test = train_test_split(X, y, test_size=0.2, random_state=123)\n",
    "\n",
    "# Print dataset shapes\n",
    "print(\"Training Set Shape:\", X_train.shape)\n",
    "print(\"Testing Set Shape:\", X_test.shape)\n",
    "    "
   ]
  },
  {
   "cell_type": "markdown",
   "id": "865ce763",
   "metadata": {},
   "source": [
    "## **05. Convert Labels to One-Hot Encoding**"
   ]
  },
  {
   "cell_type": "markdown",
   "id": "0c1f5128",
   "metadata": {},
   "source": [
    "**05-a** Convert `y_train` and `y_test` from categorical to one-hot encoded values."
   ]
  },
  {
   "cell_type": "code",
   "execution_count": null,
   "id": "8c6a740d",
   "metadata": {},
   "outputs": [],
   "source": [
    "\n",
    "from sklearn.preprocessing import OneHotEncoder\n",
    "import numpy as np\n",
    "\n",
    "# Initialize OneHotEncoder\n",
    "encoder = OneHotEncoder(sparse_output=False)\n",
    "\n",
    "# Reshape y_train and y_test for encoding\n",
    "y_train_reshaped = np.array(y_train).reshape(-1, 1)\n",
    "y_test_reshaped = np.array(y_test).reshape(-1, 1)\n",
    "\n",
    "# Apply OneHotEncoder\n",
    "one_hot_train_labels = encoder.fit_transform(y_train_reshaped)\n",
    "one_hot_test_labels = encoder.transform(y_test_reshaped)\n",
    "\n",
    "print(\"One-hot encoded labels for training data:\n",
    "\", one_hot_train_labels[:5])\n",
    "    "
   ]
  },
  {
   "cell_type": "markdown",
   "id": "8c3ce93d",
   "metadata": {},
   "source": [
    "## **06. Define and Train a Neural Network Model**"
   ]
  },
  {
   "cell_type": "markdown",
   "id": "ec8c3791",
   "metadata": {},
   "source": [
    "**06-a** Define a sequential model that contains 3 dense layers."
   ]
  },
  {
   "cell_type": "code",
   "execution_count": null,
   "id": "c99074a7",
   "metadata": {},
   "outputs": [],
   "source": [
    "\n",
    "import tensorflow as tf\n",
    "from tensorflow import keras\n",
    "\n",
    "# Define the model\n",
    "model = keras.Sequential([\n",
    "    keras.layers.Dense(100, activation='relu', input_shape=(4,)),\n",
    "    keras.layers.Dense(100, activation='relu'),\n",
    "    keras.layers.Dense(3, activation='softmax')\n",
    "])\n",
    "\n",
    "# Compile the model\n",
    "model.compile(optimizer='rmsprop', loss='categorical_crossentropy', metrics=['accuracy'])\n",
    "    "
   ]
  },
  {
   "cell_type": "markdown",
   "id": "c1878f99",
   "metadata": {},
   "source": [
    "**07-a** Train the model using `epoch=20, batch=10`. "
   ]
  },
  {
   "cell_type": "code",
   "execution_count": null,
   "id": "a4291300",
   "metadata": {},
   "outputs": [],
   "source": [
    "\n",
    "# Train the model\n",
    "model.fit(X_train, one_hot_train_labels, epochs=20, batch_size=10, validation_data=(X_test, one_hot_test_labels))\n",
    "    "
   ]
  },
  {
   "cell_type": "markdown",
   "id": "f1e70a62",
   "metadata": {},
   "source": [
    "## **08. Evaluate Model Performance**"
   ]
  },
  {
   "cell_type": "code",
   "execution_count": null,
   "id": "bef22130",
   "metadata": {},
   "outputs": [],
   "source": [
    "\n",
    "# Evaluate the model\n",
    "test_loss, test_acc = model.evaluate(X_test, one_hot_test_labels)\n",
    "print(\"Test Accuracy:\", test_acc)\n",
    "    "
   ]
  },
  {
   "cell_type": "markdown",
   "id": "a67757bb",
   "metadata": {},
   "source": [
    "## **09. Repeat Training with Different Parameters**"
   ]
  },
  {
   "cell_type": "markdown",
   "id": "a04b8312",
   "metadata": {},
   "source": [
    "**09-a** Train a smaller model with 10 hidden units per layer and `epochs=4, batch_size=10`. "
   ]
  },
  {
   "cell_type": "code",
   "execution_count": null,
   "id": "5ac740d0",
   "metadata": {},
   "outputs": [],
   "source": [
    "\n",
    "# Define a smaller model\n",
    "small_model = keras.Sequential([\n",
    "    keras.layers.Dense(10, activation='relu', input_shape=(4,)),\n",
    "    keras.layers.Dense(10, activation='relu'),\n",
    "    keras.layers.Dense(3, activation='softmax')\n",
    "])\n",
    "\n",
    "# Compile the model\n",
    "small_model.compile(optimizer='rmsprop', loss='categorical_crossentropy', metrics=['accuracy'])\n",
    "\n",
    "# Train the model\n",
    "small_model.fit(X_train, one_hot_train_labels, epochs=4, batch_size=10, validation_data=(X_test, one_hot_test_labels))\n",
    "    "
   ]
  },
  {
   "cell_type": "markdown",
   "id": "c0c4cd3a",
   "metadata": {},
   "source": [
    "## **10. Final Submission Instructions**"
   ]
  },
  {
   "cell_type": "markdown",
   "id": "5dc594fd",
   "metadata": {},
   "source": [
    "\n",
    "- **Save and download this notebook (`.ipynb` file).**\n",
    "- **Record a 5-10 minute video explaining your work.**\n",
    "- **Upload the video to YouTube** and submit both the notebook and the video link.\n",
    "    "
   ]
  }
 ],
 "metadata": {},
 "nbformat": 4,
 "nbformat_minor": 5
}
